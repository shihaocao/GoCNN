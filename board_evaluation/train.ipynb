{
 "cells": [
  {
   "cell_type": "code",
   "execution_count": 1,
   "metadata": {},
   "outputs": [
    {
     "name": "stderr",
     "output_type": "stream",
     "text": [
      "2021-11-15 23:43:42.835884: W tensorflow/stream_executor/platform/default/dso_loader.cc:60] Could not load dynamic library 'libcudart.so.11.0'; dlerror: libcudart.so.11.0: cannot open shared object file: No such file or directory\n",
      "2021-11-15 23:43:42.835904: I tensorflow/stream_executor/cuda/cudart_stub.cc:29] Ignore above cudart dlerror if you do not have a GPU set up on your machine.\n"
     ]
    },
    {
     "name": "stdout",
     "output_type": "stream",
     "text": [
      "WARNING:tensorflow:From /home/shihao/.local/lib/python3.8/site-packages/tensorflow/python/compat/v2_compat.py:96: disable_resource_variables (from tensorflow.python.ops.variable_scope) is deprecated and will be removed in a future version.\n",
      "Instructions for updating:\n",
      "non-resource variables are not supported in the long term\n"
     ]
    }
   ],
   "source": [
    "import tensorflow as tf\n",
    "import os\n",
    "import sys\n",
    "import go_datafile_reader\n",
    "import model\n",
    "import numpy as np\n",
    "import model_eval\n",
    "\n",
    "tf.compat.v1.disable_v2_behavior()\n",
    "\n",
    "# reload(model)\n",
    "# reload(go_datafile_reader)\n",
    "# reload(model_eval)"
   ]
  },
  {
   "cell_type": "code",
   "execution_count": 4,
   "metadata": {},
   "outputs": [],
   "source": [
    "train_dir = \"/home/shihao/BCode/GoCNN/data/input_samples_all\"\n",
    "# test_dir = \"/home/justin/Programming/GoAI/MovePredictionCNN/data/input/test\"\n",
    "test_dir = train_dir\n",
    "ckpt_path = \"/home/shihao/BCode/GoCNN/board_eval_cnn_5layer.ckpt\""
   ]
  },
  {
   "cell_type": "code",
   "execution_count": 5,
   "metadata": {},
   "outputs": [
    {
     "name": "stdout",
     "output_type": "stream",
     "text": [
      "num train: 93, num test: 93\n"
     ]
    }
   ],
   "source": [
    "train_files = []\n",
    "for subdir, dirs, files in os.walk(train_dir):\n",
    "    for file in files:\n",
    "        filepath = subdir + os.sep + file\n",
    "        if filepath.endswith(\".dat\"):\n",
    "            train_files.append(filepath)\n",
    "\n",
    "test_files = []\n",
    "for subdir, dirs, files in os.walk(test_dir):\n",
    "    for file in files:\n",
    "        filepath = subdir + os.sep + file\n",
    "        if filepath.endswith(\".dat\"):\n",
    "            test_files.append(filepath)\n",
    "\n",
    "print(\"num train: %d, num test: %d\" %(len(train_files), len(test_files)))"
   ]
  },
  {
   "cell_type": "code",
   "execution_count": 6,
   "metadata": {},
   "outputs": [],
   "source": [
    "#note you may have to change the os limit for number of open files to use the RandomAccessFileReader\n",
    "#you can do this with the command \"sudo ulimit -n 20000\"\n",
    "#if sudo can't find the ulimit command try the following below\n",
    "#sudo sh -c \"ulimit -n 20000 && exec su $LOGNAME\"\n",
    "\n",
    "# reader = go_datafile_reader.RandomAccessFileReader(train_files)\n",
    "reader = go_datafile_reader.GoDatafileReader(train_files)\n",
    "test_reader = go_datafile_reader.GoDatafileReader(test_files)\n",
    "\n",
    "test_reader.num_epochs = 0\n",
    "test_features = []\n",
    "test_targets = []\n",
    "test_move_numbers = []\n",
    "while(test_reader.num_epochs == 0):\n",
    "    test_move_numbers.append(test_reader.move_index)\n",
    "    final_state, _, feature_cube = test_reader.read_sample()\n",
    "    test_features.append(feature_cube)\n",
    "    test_targets.append(final_state)"
   ]
  },
  {
   "cell_type": "code",
   "execution_count": 7,
   "metadata": {},
   "outputs": [
    {
     "name": "stdout",
     "output_type": "stream",
     "text": [
      "WARNING:tensorflow:From /home/shihao/.local/lib/python3.8/site-packages/tensorflow/python/util/tf_should_use.py:247: initialize_all_variables (from tensorflow.python.ops.variables) is deprecated and will be removed after 2017-03-02.\n",
      "Instructions for updating:\n",
      "Use `tf.global_variables_initializer` instead.\n",
      "WARNING:tensorflow:From /tmp/ipykernel_363338/245525942.py:13: all_variables (from tensorflow.python.ops.variables) is deprecated and will be removed after 2017-03-02.\n",
      "Instructions for updating:\n",
      "Please use tf.global_variables instead.\n"
     ]
    },
    {
     "name": "stderr",
     "output_type": "stream",
     "text": [
      "2021-11-15 23:44:24.135213: I tensorflow/core/platform/cpu_feature_guard.cc:142] This TensorFlow binary is optimized with oneAPI Deep Neural Network Library (oneDNN) to use the following CPU instructions in performance-critical operations:  AVX2 AVX512F FMA\n",
      "To enable them in other operations, rebuild TensorFlow with the appropriate compiler flags.\n",
      "2021-11-15 23:44:24.135565: I tensorflow/compiler/jit/xla_gpu_device.cc:99] Not creating XLA devices, tf_xla_enable_xla_devices not set\n",
      "2021-11-15 23:44:24.139775: I tensorflow/stream_executor/platform/default/dso_loader.cc:49] Successfully opened dynamic library libcuda.so.1\n",
      "2021-11-15 23:44:24.152922: E tensorflow/stream_executor/cuda/cuda_driver.cc:328] failed call to cuInit: CUDA_ERROR_NO_DEVICE: no CUDA-capable device is detected\n",
      "2021-11-15 23:44:24.152953: I tensorflow/stream_executor/cuda/cuda_diagnostics.cc:156] kernel driver does not appear to be running on this host (shihao-T490V2): /proc/driver/nvidia/version does not exist\n",
      "2021-11-15 23:44:24.158883: I tensorflow/compiler/mlir/mlir_graph_optimization_pass.cc:196] None of the MLIR optimization passes are enabled (registered 0 passes)\n"
     ]
    }
   ],
   "source": [
    "x, ownership = model.place_holders()\n",
    "y_conv = model.model(x)\n",
    "loss = model.loss_function(ownership, y_conv)\n",
    "train_op = model.train_step(loss)\n",
    "\n",
    "prediction = tf.round(y_conv)\n",
    "correct_prediction = tf.equal(ownership, prediction)\n",
    "correct_count = tf.reduce_sum(tf.cast(correct_prediction, \"float\"))\n",
    "accuracy = tf.reduce_mean(tf.cast(correct_prediction, \"float\"))\n",
    "\n",
    "sess = tf.compat.v1.InteractiveSession()\n",
    "sess.run(tf.compat.v1.initialize_all_variables())\n",
    "saver = tf.compat.v1.train.Saver(tf.compat.v1.all_variables())\n",
    "# saver.restore(sess, ckpt_path)"
   ]
  },
  {
   "cell_type": "code",
   "execution_count": 8,
   "metadata": {},
   "outputs": [
    {
     "name": "stdout",
     "output_type": "stream",
     "text": [
      "0, 0.4878888428211212, 0.5016620755195618\n",
      "Test accuracy: 0.500110725621909\n",
      "Saving Checkpoint...\n",
      "10, 0.4761830270290375, 0.5202770233154297\n",
      "20, 0.4460555613040924, 0.5306371450424194\n",
      "30, 0.4411310851573944, 0.5336841940879822\n"
     ]
    },
    {
     "ename": "KeyboardInterrupt",
     "evalue": "",
     "output_type": "error",
     "traceback": [
      "\u001b[0;31m---------------------------------------------------------------------------\u001b[0m",
      "\u001b[0;31mKeyboardInterrupt\u001b[0m                         Traceback (most recent call last)",
      "\u001b[0;32m/tmp/ipykernel_363338/1185542499.py\u001b[0m in \u001b[0;36m<module>\u001b[0;34m\u001b[0m\n\u001b[1;32m      3\u001b[0m \u001b[0mcheckpoint_duration\u001b[0m \u001b[0;34m=\u001b[0m \u001b[0;36m100\u001b[0m\u001b[0;34m\u001b[0m\u001b[0;34m\u001b[0m\u001b[0m\n\u001b[1;32m      4\u001b[0m \u001b[0;32mfor\u001b[0m \u001b[0mk\u001b[0m \u001b[0;32min\u001b[0m \u001b[0mrange\u001b[0m\u001b[0;34m(\u001b[0m\u001b[0;36m1000\u001b[0m\u001b[0;34m)\u001b[0m\u001b[0;34m:\u001b[0m\u001b[0;34m\u001b[0m\u001b[0;34m\u001b[0m\u001b[0m\n\u001b[0;32m----> 5\u001b[0;31m     \u001b[0mx_batch\u001b[0m\u001b[0;34m,\u001b[0m \u001b[0my_batch\u001b[0m \u001b[0;34m=\u001b[0m \u001b[0mreader\u001b[0m\u001b[0;34m.\u001b[0m\u001b[0mget_batch\u001b[0m\u001b[0;34m(\u001b[0m\u001b[0;36m50\u001b[0m\u001b[0;34m)\u001b[0m\u001b[0;34m\u001b[0m\u001b[0;34m\u001b[0m\u001b[0m\n\u001b[0m\u001b[1;32m      6\u001b[0m     \u001b[0m_\u001b[0m\u001b[0;34m,\u001b[0m \u001b[0mloss_value\u001b[0m\u001b[0;34m,\u001b[0m \u001b[0my_value\u001b[0m \u001b[0;34m=\u001b[0m \u001b[0msess\u001b[0m\u001b[0;34m.\u001b[0m\u001b[0mrun\u001b[0m\u001b[0;34m(\u001b[0m\u001b[0;34m[\u001b[0m\u001b[0mtrain_op\u001b[0m\u001b[0;34m,\u001b[0m \u001b[0mloss\u001b[0m\u001b[0;34m,\u001b[0m \u001b[0my_conv\u001b[0m\u001b[0;34m]\u001b[0m\u001b[0;34m,\u001b[0m \u001b[0mfeed_dict\u001b[0m\u001b[0;34m=\u001b[0m\u001b[0;34m{\u001b[0m\u001b[0mx\u001b[0m\u001b[0;34m:\u001b[0m\u001b[0mx_batch\u001b[0m\u001b[0;34m,\u001b[0m \u001b[0mownership\u001b[0m\u001b[0;34m:\u001b[0m\u001b[0my_batch\u001b[0m\u001b[0;34m}\u001b[0m\u001b[0;34m)\u001b[0m\u001b[0;34m\u001b[0m\u001b[0;34m\u001b[0m\u001b[0m\n\u001b[1;32m      7\u001b[0m     \u001b[0;32mif\u001b[0m \u001b[0mk\u001b[0m \u001b[0;34m%\u001b[0m \u001b[0;36m10\u001b[0m \u001b[0;34m==\u001b[0m \u001b[0;36m0\u001b[0m\u001b[0;34m:\u001b[0m\u001b[0;34m\u001b[0m\u001b[0;34m\u001b[0m\u001b[0m\n",
      "\u001b[0;32m~/BCode/GoCNN/board_evaluation/go_datafile_reader.py\u001b[0m in \u001b[0;36mget_batch\u001b[0;34m(self, batch_size)\u001b[0m\n\u001b[1;32m    163\u001b[0m         \u001b[0mfeature_cubes\u001b[0m \u001b[0;34m=\u001b[0m \u001b[0;34m[\u001b[0m\u001b[0;34m]\u001b[0m\u001b[0;34m\u001b[0m\u001b[0;34m\u001b[0m\u001b[0m\n\u001b[1;32m    164\u001b[0m         \u001b[0;32mfor\u001b[0m \u001b[0mi\u001b[0m \u001b[0;32min\u001b[0m \u001b[0mrange\u001b[0m\u001b[0;34m(\u001b[0m\u001b[0mbatch_size\u001b[0m\u001b[0;34m)\u001b[0m\u001b[0;34m:\u001b[0m\u001b[0;34m\u001b[0m\u001b[0;34m\u001b[0m\u001b[0m\n\u001b[0;32m--> 165\u001b[0;31m             \u001b[0mfinal_state\u001b[0m\u001b[0;34m,\u001b[0m \u001b[0m_\u001b[0m\u001b[0;34m,\u001b[0m \u001b[0mfeature_cube\u001b[0m \u001b[0;34m=\u001b[0m \u001b[0mself\u001b[0m\u001b[0;34m.\u001b[0m\u001b[0mread_sample\u001b[0m\u001b[0;34m(\u001b[0m\u001b[0;34m)\u001b[0m\u001b[0;34m\u001b[0m\u001b[0;34m\u001b[0m\u001b[0m\n\u001b[0m\u001b[1;32m    166\u001b[0m             \u001b[0mfinal_states\u001b[0m\u001b[0;34m.\u001b[0m\u001b[0mappend\u001b[0m\u001b[0;34m(\u001b[0m\u001b[0mfinal_state\u001b[0m\u001b[0;34m)\u001b[0m\u001b[0;34m\u001b[0m\u001b[0;34m\u001b[0m\u001b[0m\n\u001b[1;32m    167\u001b[0m             \u001b[0mfeature_cubes\u001b[0m\u001b[0;34m.\u001b[0m\u001b[0mappend\u001b[0m\u001b[0;34m(\u001b[0m\u001b[0mfeature_cube\u001b[0m\u001b[0;34m)\u001b[0m\u001b[0;34m\u001b[0m\u001b[0;34m\u001b[0m\u001b[0m\n",
      "\u001b[0;32m~/BCode/GoCNN/board_evaluation/go_datafile_reader.py\u001b[0m in \u001b[0;36mread_sample\u001b[0;34m(self)\u001b[0m\n\u001b[1;32m    155\u001b[0m         \u001b[0;31m#final_state = final_state.reshape((19,19))\u001b[0m\u001b[0;34m\u001b[0m\u001b[0;34m\u001b[0m\u001b[0;34m\u001b[0m\u001b[0m\n\u001b[1;32m    156\u001b[0m \u001b[0;34m\u001b[0m\u001b[0m\n\u001b[0;32m--> 157\u001b[0;31m         \u001b[0mfeature_cube\u001b[0m \u001b[0;34m=\u001b[0m \u001b[0mself\u001b[0m\u001b[0;34m.\u001b[0m\u001b[0m_get_feature_cube\u001b[0m\u001b[0;34m(\u001b[0m\u001b[0;34m)\u001b[0m\u001b[0;34m\u001b[0m\u001b[0;34m\u001b[0m\u001b[0m\n\u001b[0m\u001b[1;32m    158\u001b[0m         \u001b[0mself\u001b[0m\u001b[0;34m.\u001b[0m\u001b[0mmove_index\u001b[0m\u001b[0;34m+=\u001b[0m\u001b[0;36m1\u001b[0m\u001b[0;34m\u001b[0m\u001b[0;34m\u001b[0m\u001b[0m\n\u001b[1;32m    159\u001b[0m         \u001b[0;32mreturn\u001b[0m \u001b[0mfinal_state\u001b[0m\u001b[0;34m,\u001b[0m \u001b[0;34m(\u001b[0m\u001b[0mrow\u001b[0m\u001b[0;34m,\u001b[0m \u001b[0mcol\u001b[0m\u001b[0;34m)\u001b[0m\u001b[0;34m,\u001b[0m \u001b[0mfeature_cube\u001b[0m\u001b[0;34m\u001b[0m\u001b[0;34m\u001b[0m\u001b[0m\n",
      "\u001b[0;32m~/BCode/GoCNN/board_evaluation/go_datafile_reader.py\u001b[0m in \u001b[0;36m_get_feature_cube\u001b[0;34m(self)\u001b[0m\n\u001b[1;32m    134\u001b[0m                 \u001b[0mfeature_byte\u001b[0m \u001b[0;34m=\u001b[0m \u001b[0mord\u001b[0m\u001b[0;34m(\u001b[0m\u001b[0mself\u001b[0m\u001b[0;34m.\u001b[0m\u001b[0mcurrent_file\u001b[0m\u001b[0;34m.\u001b[0m\u001b[0mread\u001b[0m\u001b[0;34m(\u001b[0m\u001b[0;36m1\u001b[0m\u001b[0;34m)\u001b[0m\u001b[0;34m)\u001b[0m\u001b[0;34m\u001b[0m\u001b[0;34m\u001b[0m\u001b[0m\n\u001b[1;32m    135\u001b[0m                 \u001b[0;32mfor\u001b[0m \u001b[0mk\u001b[0m \u001b[0;32min\u001b[0m \u001b[0mrange\u001b[0m\u001b[0;34m(\u001b[0m\u001b[0;36m8\u001b[0m\u001b[0;34m)\u001b[0m\u001b[0;34m:\u001b[0m\u001b[0;34m\u001b[0m\u001b[0;34m\u001b[0m\u001b[0m\n\u001b[0;32m--> 136\u001b[0;31m                     \u001b[0mfeature_cube\u001b[0m\u001b[0;34m[\u001b[0m\u001b[0mi\u001b[0m\u001b[0;34m]\u001b[0m\u001b[0;34m[\u001b[0m\u001b[0mj\u001b[0m\u001b[0;34m]\u001b[0m\u001b[0;34m[\u001b[0m\u001b[0mk\u001b[0m\u001b[0;34m]\u001b[0m \u001b[0;34m=\u001b[0m \u001b[0;34m(\u001b[0m\u001b[0;34m(\u001b[0m\u001b[0mfeature_byte\u001b[0m \u001b[0;34m>>\u001b[0m \u001b[0mk\u001b[0m\u001b[0;34m)\u001b[0m \u001b[0;34m&\u001b[0m \u001b[0;36m1\u001b[0m\u001b[0;34m)\u001b[0m\u001b[0;34m\u001b[0m\u001b[0;34m\u001b[0m\u001b[0m\n\u001b[0m\u001b[1;32m    137\u001b[0m                 \u001b[0;32massert\u001b[0m\u001b[0;34m(\u001b[0m\u001b[0;34m(\u001b[0m\u001b[0;34m(\u001b[0m\u001b[0mfeature_byte\u001b[0m  \u001b[0;34m>>\u001b[0m \u001b[0;36m7\u001b[0m\u001b[0;34m)\u001b[0m \u001b[0;34m&\u001b[0m\u001b[0;36m1\u001b[0m\u001b[0;34m)\u001b[0m \u001b[0;34m==\u001b[0m \u001b[0;36m1\u001b[0m\u001b[0;34m)\u001b[0m\u001b[0;34m\u001b[0m\u001b[0;34m\u001b[0m\u001b[0m\n\u001b[1;32m    138\u001b[0m         \u001b[0;32mreturn\u001b[0m \u001b[0mfeature_cube\u001b[0m\u001b[0;34m\u001b[0m\u001b[0;34m\u001b[0m\u001b[0m\n",
      "\u001b[0;31mKeyboardInterrupt\u001b[0m: "
     ]
    }
   ],
   "source": [
    "\n",
    "training_accuracies = []\n",
    "test_accuracies = []\n",
    "checkpoint_duration = 100\n",
    "for k in range(1000):\n",
    "    x_batch, y_batch = reader.get_batch(50)\n",
    "    _, loss_value, y_value = sess.run([train_op, loss, y_conv], feed_dict={x:x_batch, ownership:y_batch})\n",
    "    if k % 10 == 0:\n",
    "        acc = accuracy.eval(feed_dict={x:x_batch, ownership:y_batch})\n",
    "        training_accuracies.append(acc)\n",
    "        print(f'{k}, {loss_value}, {acc}')\n",
    "            \n",
    "    if k % checkpoint_duration == 0:\n",
    "        test_accuracy = model_eval.test_accuracy(test_features, test_targets, x, ownership, correct_count)\n",
    "        test_accuracies.append(test_accuracy)\n",
    "        print(f\"Test accuracy: {test_accuracy}\")\n",
    "    if k % checkpoint_duration == 0:\n",
    "        print(\"Saving Checkpoint...\")\n",
    "        saver.save(sess, ckpt_path)\n",
    "    "
   ]
  },
  {
   "cell_type": "code",
   "execution_count": 25,
   "metadata": {},
   "outputs": [],
   "source": [
    "import matplotlib.pyplot as plt\n",
    "import numpy as np"
   ]
  },
  {
   "cell_type": "code",
   "execution_count": 26,
   "metadata": {},
   "outputs": [],
   "source": [
    "def rolling_mean(number_list, window = 20):\n",
    "    means = np.zeros(len(number_list))\n",
    "    for i in range(len(means)):\n",
    "        sub_window = number_list[i-window+1:i+1]\n",
    "        means[i] = np.mean(sub_window)\n",
    "    return means"
   ]
  },
  {
   "cell_type": "code",
   "execution_count": 27,
   "metadata": {},
   "outputs": [
    {
     "name": "stdout",
     "output_type": "stream",
     "text": [
      "100\n"
     ]
    },
    {
     "data": {
      "image/png": "[encoded data removed]",
      "text/plain": [
       "<Figure size 432x288 with 1 Axes>"
      ]
     },
     "metadata": {
      "needs_background": "light"
     },
     "output_type": "display_data"
    }
   ],
   "source": [
    "print(len(training_accuracies))\n",
    "means = rolling_mean(test_accuracies, 20)\n",
    "plt.plot(test_accuracies, label=\"Batch Accuracy\")\n",
    "plt.plot(means, label= \"Rolling Mean\")\n",
    "plt.title(\"Good Data Mixing 5layer 64filters\")\n",
    "plt.xlabel(\"Batch Num / 10\")\n",
    "plt.ylabel(\"Accuracy\")\n",
    "plt.ylim([.6,1])\n",
    "plt.legend(loc=3)\n",
    "plt.show()"
   ]
  },
  {
   "cell_type": "code",
   "execution_count": 28,
   "metadata": {},
   "outputs": [
    {
     "name": "stdout",
     "output_type": "stream",
     "text": [
      "0\n",
      "500\n"
     ]
    }
   ],
   "source": [
    "accuracies = []\n",
    "y_trues = []\n",
    "y_preds = []\n",
    "feature_cubes = []\n",
    "for i in range(len(test_features)):\n",
    "    if i%500 == 0:\n",
    "        print(i)\n",
    "    x_, y_ = test_features[i], test_targets[i]\n",
    "    y_val, y_pred, acc = sess.run([y_conv, prediction, accuracy], feed_dict={x:[x_], ownership:[y_]})\n",
    "    accuracies.append(acc)\n",
    "    y_trues.append(np.reshape(y_, [19,19]))\n",
    "    y_preds.append(np.reshape(y_pred[0], [19,19]))\n",
    "    feature_cubes.append(x_)"
   ]
  },
  {
   "cell_type": "code",
   "execution_count": 52,
   "metadata": {},
   "outputs": [
    {
     "name": "stdout",
     "output_type": "stream",
     "text": [
      "850\n",
      "14\n",
      "0.9639889\n",
      "*******************   0000001111111111111   0000001111111111111\n",
      "*******************   0000011111111111111   0000011111111111111\n",
      "***0*********1*1***   0000111111111111111   0000111111111111111\n",
      "****************1**   0000011111111110110   0000011111111110110\n",
      "**1************01**   0000011111111110100   0000011111111110100\n",
      "****************0**   0000011111111110000   0000001111111110000\n",
      "***************0***   1110000011111100100   1010000011111100100\n",
      "*******************   1111100000111111100   1111100000111111100\n",
      "*******************   1111100000001111000   1111100000001111000\n",
      "*******************   1111100000000110000   1111100000000110000\n",
      "****************0**   0111111000000110000   1111100010000110000\n",
      "*******************   1011011011000011000   1111000011000011000\n",
      "*******************   1111111110000010000   1111111110000010000\n",
      "****************0**   0111111111100000000   1111111111100000000\n",
      "*******************   1100101111100000000   1100100111100000000\n",
      "***0************1**   1110001110110000000   1110001110110000000\n",
      "**************1****   1000000000110010000   1100000000110010000\n",
      "*******************   1000000000011111100   1000000000011111100\n",
      "*******************   1000000000001111000   1100000000001111000\n"
     ]
    }
   ],
   "source": [
    "print(len(y_preds))\n",
    "idx= 630\n",
    "y_pred = y_preds[idx]\n",
    "y_true = y_trues[idx]\n",
    "feature_cube = feature_cubes[idx]\n",
    "\n",
    "print(test_move_numbers[idx])\n",
    "print(accuracies[idx])\n",
    "model_eval.print_info(feature_cube = feature_cube, y_pred = y_pred, y_true = y_true)\n",
    "\n",
    "    "
   ]
  },
  {
   "cell_type": "code",
   "execution_count": 30,
   "metadata": {},
   "outputs": [],
   "source": [
    "import pandas as pd"
   ]
  },
  {
   "cell_type": "code",
   "execution_count": 31,
   "metadata": {},
   "outputs": [],
   "source": [
    "df = pd.DataFrame()\n",
    "df[\"Move Num\"] = test_move_numbers\n",
    "df[\"Accuracy\"] = accuracies\n",
    "grouped = df.groupby(\"Move Num\").aggregate(np.mean)\n"
   ]
  },
  {
   "cell_type": "code",
   "execution_count": 32,
   "metadata": {},
   "outputs": [
    {
     "data": {
      "image/png": "[encoded data removed]",
      "text/plain": [
       "<Figure size 432x288 with 1 Axes>"
      ]
     },
     "metadata": {
      "needs_background": "light"
     },
     "output_type": "display_data"
    }
   ],
   "source": [
    "grouped.plot()\n",
    "plt.title(\"Accuracy by move number, 5layer 64filters\")\n",
    "plt.xlabel(\"Move Number\")\n",
    "plt.ylabel(\"Accuracy\")\n",
    "plt.show()"
   ]
  },
  {
   "cell_type": "code",
   "execution_count": 33,
   "metadata": {},
   "outputs": [
    {
     "data": {
      "image/png": "[encoded data removed]",
      "text/plain": [
       "<Figure size 432x288 with 1 Axes>"
      ]
     },
     "metadata": {
      "needs_background": "light"
     },
     "output_type": "display_data"
    }
   ],
   "source": [
    "plot = plt.hist(df[df[\"Move Num\"] == 250][\"Accuracy\"].values, bins = 40)\n",
    "plt.show()"
   ]
  },
  {
   "cell_type": "code",
   "execution_count": null,
   "metadata": {
    "collapsed": true
   },
   "outputs": [],
   "source": []
  }
 ],
 "metadata": {
  "kernelspec": {
   "display_name": "Python 3 (ipykernel)",
   "language": "python",
   "name": "python3"
  },
  "language_info": {
   "codemirror_mode": {
    "name": "ipython",
    "version": 3
   },
   "file_extension": ".py",
   "mimetype": "text/x-python",
   "name": "python",
   "nbconvert_exporter": "python",
   "pygments_lexer": "ipython3",
   "version": "3.8.10"
  }
 },
 "nbformat": 4,
 "nbformat_minor": 1
}
